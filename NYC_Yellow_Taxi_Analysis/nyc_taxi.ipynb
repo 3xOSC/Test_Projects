{
  "nbformat": 4,
  "nbformat_minor": 0,
  "metadata": {
    "colab": {
      "name": "Анализ данных о поездках такси.ipynb",
      "provenance": []
    },
    "kernelspec": {
      "name": "python3",
      "display_name": "Python 3"
    },
    "language_info": {
      "name": "python"
    },
    "accelerator": "TPU"
  },
  "cells": [
    {
      "cell_type": "markdown",
      "metadata": {
        "id": "SZm7euuRV990"
      },
      "source": [
        "Установка необходимых библиотек:"
      ]
    },
    {
      "cell_type": "code",
      "metadata": {
        "id": "1djifET0aRPi"
      },
      "source": [
        "import pandas as pd\n",
        "import numpy as np\n",
        "import seaborn as sns\n",
        "import matplotlib.pyplot as plt\n",
        "import scipy\n",
        "from scipy import stats"
      ],
      "execution_count": null,
      "outputs": []
    },
    {
      "cell_type": "code",
      "metadata": {
        "colab": {
          "base_uri": "https://localhost:8080/"
        },
        "id": "ac5NDV36JXBx",
        "outputId": "ab9b533e-d25b-411c-a14c-d1274b7d7825"
      },
      "source": [
        "from google.colab import drive\n",
        "drive.mount('/content/drive')"
      ],
      "execution_count": null,
      "outputs": [
        {
          "output_type": "stream",
          "text": [
            "Drive already mounted at /content/drive; to attempt to forcibly remount, call drive.mount(\"/content/drive\", force_remount=True).\n"
          ],
          "name": "stdout"
        }
      ]
    },
    {
      "cell_type": "code",
      "metadata": {
        "colab": {
          "base_uri": "https://localhost:8080/"
        },
        "id": "j63e86PPJZbP",
        "outputId": "562e9814-8cc7-419e-d031-7ff13c3c6ff4"
      },
      "source": [
        "%cd \"/content/drive/MyDrive/\""
      ],
      "execution_count": null,
      "outputs": [
        {
          "output_type": "stream",
          "text": [
            "/content/drive/MyDrive\n"
          ],
          "name": "stdout"
        }
      ]
    },
    {
      "cell_type": "markdown",
      "metadata": {
        "id": "mtKGTm-2WGOk"
      },
      "source": [
        "В качестве датасетов использованы данные по поездкам yellow taxi за декабрь 2019 и январь 2020 с официального сайта г. Нью-Йорк:\n",
        "\n",
        "https://www1.nyc.gov/site/tlc/about/tlc-trip-record-data.page"
      ]
    },
    {
      "cell_type": "code",
      "metadata": {
        "colab": {
          "base_uri": "https://localhost:8080/"
        },
        "id": "PwtC28QobgaN",
        "outputId": "7070652c-5d20-4eb9-c1fd-811499a0a19c"
      },
      "source": [
        "df_jan = pd.read_csv('/content/drive/MyDrive/yellow_tripdata_2020-01.csv')\n",
        "df_dec = pd.read_csv('/content/drive/MyDrive/yellow_tripdata_2019-12.csv')"
      ],
      "execution_count": null,
      "outputs": [
        {
          "output_type": "stream",
          "text": [
            "/usr/local/lib/python3.7/dist-packages/IPython/core/interactiveshell.py:2718: DtypeWarning: Columns (6) have mixed types.Specify dtype option on import or set low_memory=False.\n",
            "  interactivity=interactivity, compiler=compiler, result=result)\n"
          ],
          "name": "stderr"
        }
      ]
    },
    {
      "cell_type": "code",
      "metadata": {
        "colab": {
          "base_uri": "https://localhost:8080/",
          "height": 226
        },
        "id": "mTAZ4dnanyeU",
        "outputId": "ca2e2c3d-70b5-4e1d-e1d7-9f06bcfc9fc8"
      },
      "source": [
        "df_jan.head()"
      ],
      "execution_count": null,
      "outputs": [
        {
          "output_type": "execute_result",
          "data": {
            "text/html": [
              "<div>\n",
              "<style scoped>\n",
              "    .dataframe tbody tr th:only-of-type {\n",
              "        vertical-align: middle;\n",
              "    }\n",
              "\n",
              "    .dataframe tbody tr th {\n",
              "        vertical-align: top;\n",
              "    }\n",
              "\n",
              "    .dataframe thead th {\n",
              "        text-align: right;\n",
              "    }\n",
              "</style>\n",
              "<table border=\"1\" class=\"dataframe\">\n",
              "  <thead>\n",
              "    <tr style=\"text-align: right;\">\n",
              "      <th></th>\n",
              "      <th>VendorID</th>\n",
              "      <th>tpep_pickup_datetime</th>\n",
              "      <th>tpep_dropoff_datetime</th>\n",
              "      <th>passenger_count</th>\n",
              "      <th>trip_distance</th>\n",
              "      <th>RatecodeID</th>\n",
              "      <th>store_and_fwd_flag</th>\n",
              "      <th>PULocationID</th>\n",
              "      <th>DOLocationID</th>\n",
              "      <th>payment_type</th>\n",
              "      <th>fare_amount</th>\n",
              "      <th>extra</th>\n",
              "      <th>mta_tax</th>\n",
              "      <th>tip_amount</th>\n",
              "      <th>tolls_amount</th>\n",
              "      <th>improvement_surcharge</th>\n",
              "      <th>total_amount</th>\n",
              "      <th>congestion_surcharge</th>\n",
              "    </tr>\n",
              "  </thead>\n",
              "  <tbody>\n",
              "    <tr>\n",
              "      <th>0</th>\n",
              "      <td>1.0</td>\n",
              "      <td>2020-01-01 00:28:15</td>\n",
              "      <td>2020-01-01 00:33:03</td>\n",
              "      <td>1.0</td>\n",
              "      <td>1.2</td>\n",
              "      <td>1.0</td>\n",
              "      <td>N</td>\n",
              "      <td>238</td>\n",
              "      <td>239</td>\n",
              "      <td>1.0</td>\n",
              "      <td>6.0</td>\n",
              "      <td>3.0</td>\n",
              "      <td>0.5</td>\n",
              "      <td>1.47</td>\n",
              "      <td>0.0</td>\n",
              "      <td>0.3</td>\n",
              "      <td>11.27</td>\n",
              "      <td>2.5</td>\n",
              "    </tr>\n",
              "    <tr>\n",
              "      <th>1</th>\n",
              "      <td>1.0</td>\n",
              "      <td>2020-01-01 00:35:39</td>\n",
              "      <td>2020-01-01 00:43:04</td>\n",
              "      <td>1.0</td>\n",
              "      <td>1.2</td>\n",
              "      <td>1.0</td>\n",
              "      <td>N</td>\n",
              "      <td>239</td>\n",
              "      <td>238</td>\n",
              "      <td>1.0</td>\n",
              "      <td>7.0</td>\n",
              "      <td>3.0</td>\n",
              "      <td>0.5</td>\n",
              "      <td>1.50</td>\n",
              "      <td>0.0</td>\n",
              "      <td>0.3</td>\n",
              "      <td>12.30</td>\n",
              "      <td>2.5</td>\n",
              "    </tr>\n",
              "    <tr>\n",
              "      <th>2</th>\n",
              "      <td>1.0</td>\n",
              "      <td>2020-01-01 00:47:41</td>\n",
              "      <td>2020-01-01 00:53:52</td>\n",
              "      <td>1.0</td>\n",
              "      <td>0.6</td>\n",
              "      <td>1.0</td>\n",
              "      <td>N</td>\n",
              "      <td>238</td>\n",
              "      <td>238</td>\n",
              "      <td>1.0</td>\n",
              "      <td>6.0</td>\n",
              "      <td>3.0</td>\n",
              "      <td>0.5</td>\n",
              "      <td>1.00</td>\n",
              "      <td>0.0</td>\n",
              "      <td>0.3</td>\n",
              "      <td>10.80</td>\n",
              "      <td>2.5</td>\n",
              "    </tr>\n",
              "    <tr>\n",
              "      <th>3</th>\n",
              "      <td>1.0</td>\n",
              "      <td>2020-01-01 00:55:23</td>\n",
              "      <td>2020-01-01 01:00:14</td>\n",
              "      <td>1.0</td>\n",
              "      <td>0.8</td>\n",
              "      <td>1.0</td>\n",
              "      <td>N</td>\n",
              "      <td>238</td>\n",
              "      <td>151</td>\n",
              "      <td>1.0</td>\n",
              "      <td>5.5</td>\n",
              "      <td>0.5</td>\n",
              "      <td>0.5</td>\n",
              "      <td>1.36</td>\n",
              "      <td>0.0</td>\n",
              "      <td>0.3</td>\n",
              "      <td>8.16</td>\n",
              "      <td>0.0</td>\n",
              "    </tr>\n",
              "    <tr>\n",
              "      <th>4</th>\n",
              "      <td>2.0</td>\n",
              "      <td>2020-01-01 00:01:58</td>\n",
              "      <td>2020-01-01 00:04:16</td>\n",
              "      <td>1.0</td>\n",
              "      <td>0.0</td>\n",
              "      <td>1.0</td>\n",
              "      <td>N</td>\n",
              "      <td>193</td>\n",
              "      <td>193</td>\n",
              "      <td>2.0</td>\n",
              "      <td>3.5</td>\n",
              "      <td>0.5</td>\n",
              "      <td>0.5</td>\n",
              "      <td>0.00</td>\n",
              "      <td>0.0</td>\n",
              "      <td>0.3</td>\n",
              "      <td>4.80</td>\n",
              "      <td>0.0</td>\n",
              "    </tr>\n",
              "  </tbody>\n",
              "</table>\n",
              "</div>"
            ],
            "text/plain": [
              "   VendorID tpep_pickup_datetime  ... total_amount  congestion_surcharge\n",
              "0       1.0  2020-01-01 00:28:15  ...        11.27                   2.5\n",
              "1       1.0  2020-01-01 00:35:39  ...        12.30                   2.5\n",
              "2       1.0  2020-01-01 00:47:41  ...        10.80                   2.5\n",
              "3       1.0  2020-01-01 00:55:23  ...         8.16                   0.0\n",
              "4       2.0  2020-01-01 00:01:58  ...         4.80                   0.0\n",
              "\n",
              "[5 rows x 18 columns]"
            ]
          },
          "metadata": {
            "tags": []
          },
          "execution_count": 11
        }
      ]
    },
    {
      "cell_type": "code",
      "metadata": {
        "colab": {
          "base_uri": "https://localhost:8080/",
          "height": 226
        },
        "id": "BPk5JFE0oJU6",
        "outputId": "169b1523-a923-465c-f9ba-92a83f31a463"
      },
      "source": [
        "df_dec.head()"
      ],
      "execution_count": null,
      "outputs": [
        {
          "output_type": "execute_result",
          "data": {
            "text/html": [
              "<div>\n",
              "<style scoped>\n",
              "    .dataframe tbody tr th:only-of-type {\n",
              "        vertical-align: middle;\n",
              "    }\n",
              "\n",
              "    .dataframe tbody tr th {\n",
              "        vertical-align: top;\n",
              "    }\n",
              "\n",
              "    .dataframe thead th {\n",
              "        text-align: right;\n",
              "    }\n",
              "</style>\n",
              "<table border=\"1\" class=\"dataframe\">\n",
              "  <thead>\n",
              "    <tr style=\"text-align: right;\">\n",
              "      <th></th>\n",
              "      <th>VendorID</th>\n",
              "      <th>tpep_pickup_datetime</th>\n",
              "      <th>tpep_dropoff_datetime</th>\n",
              "      <th>passenger_count</th>\n",
              "      <th>trip_distance</th>\n",
              "      <th>RatecodeID</th>\n",
              "      <th>store_and_fwd_flag</th>\n",
              "      <th>PULocationID</th>\n",
              "      <th>DOLocationID</th>\n",
              "      <th>payment_type</th>\n",
              "      <th>fare_amount</th>\n",
              "      <th>extra</th>\n",
              "      <th>mta_tax</th>\n",
              "      <th>tip_amount</th>\n",
              "      <th>tolls_amount</th>\n",
              "      <th>improvement_surcharge</th>\n",
              "      <th>total_amount</th>\n",
              "      <th>congestion_surcharge</th>\n",
              "    </tr>\n",
              "  </thead>\n",
              "  <tbody>\n",
              "    <tr>\n",
              "      <th>0</th>\n",
              "      <td>1.0</td>\n",
              "      <td>2019-12-01 00:26:58</td>\n",
              "      <td>2019-12-01 00:41:45</td>\n",
              "      <td>1.0</td>\n",
              "      <td>4.2</td>\n",
              "      <td>1.0</td>\n",
              "      <td>N</td>\n",
              "      <td>142</td>\n",
              "      <td>116</td>\n",
              "      <td>2.0</td>\n",
              "      <td>14.5</td>\n",
              "      <td>3.0</td>\n",
              "      <td>0.5</td>\n",
              "      <td>0.0</td>\n",
              "      <td>0.0</td>\n",
              "      <td>0.3</td>\n",
              "      <td>18.3</td>\n",
              "      <td>2.5</td>\n",
              "    </tr>\n",
              "    <tr>\n",
              "      <th>1</th>\n",
              "      <td>1.0</td>\n",
              "      <td>2019-12-01 00:12:08</td>\n",
              "      <td>2019-12-01 00:12:14</td>\n",
              "      <td>1.0</td>\n",
              "      <td>0.0</td>\n",
              "      <td>1.0</td>\n",
              "      <td>N</td>\n",
              "      <td>145</td>\n",
              "      <td>145</td>\n",
              "      <td>2.0</td>\n",
              "      <td>2.5</td>\n",
              "      <td>0.5</td>\n",
              "      <td>0.5</td>\n",
              "      <td>0.0</td>\n",
              "      <td>0.0</td>\n",
              "      <td>0.3</td>\n",
              "      <td>3.8</td>\n",
              "      <td>0.0</td>\n",
              "    </tr>\n",
              "    <tr>\n",
              "      <th>2</th>\n",
              "      <td>1.0</td>\n",
              "      <td>2019-12-01 00:25:53</td>\n",
              "      <td>2019-12-01 00:26:04</td>\n",
              "      <td>1.0</td>\n",
              "      <td>0.0</td>\n",
              "      <td>1.0</td>\n",
              "      <td>N</td>\n",
              "      <td>145</td>\n",
              "      <td>145</td>\n",
              "      <td>2.0</td>\n",
              "      <td>2.5</td>\n",
              "      <td>0.5</td>\n",
              "      <td>0.5</td>\n",
              "      <td>0.0</td>\n",
              "      <td>0.0</td>\n",
              "      <td>0.3</td>\n",
              "      <td>3.8</td>\n",
              "      <td>0.0</td>\n",
              "    </tr>\n",
              "    <tr>\n",
              "      <th>3</th>\n",
              "      <td>1.0</td>\n",
              "      <td>2019-12-01 00:12:03</td>\n",
              "      <td>2019-12-01 00:33:19</td>\n",
              "      <td>2.0</td>\n",
              "      <td>9.4</td>\n",
              "      <td>1.0</td>\n",
              "      <td>N</td>\n",
              "      <td>138</td>\n",
              "      <td>25</td>\n",
              "      <td>1.0</td>\n",
              "      <td>28.5</td>\n",
              "      <td>0.5</td>\n",
              "      <td>0.5</td>\n",
              "      <td>10.0</td>\n",
              "      <td>0.0</td>\n",
              "      <td>0.3</td>\n",
              "      <td>39.8</td>\n",
              "      <td>0.0</td>\n",
              "    </tr>\n",
              "    <tr>\n",
              "      <th>4</th>\n",
              "      <td>1.0</td>\n",
              "      <td>2019-12-01 00:05:27</td>\n",
              "      <td>2019-12-01 00:16:32</td>\n",
              "      <td>2.0</td>\n",
              "      <td>1.6</td>\n",
              "      <td>1.0</td>\n",
              "      <td>N</td>\n",
              "      <td>161</td>\n",
              "      <td>237</td>\n",
              "      <td>2.0</td>\n",
              "      <td>9.0</td>\n",
              "      <td>3.0</td>\n",
              "      <td>0.5</td>\n",
              "      <td>0.0</td>\n",
              "      <td>0.0</td>\n",
              "      <td>0.3</td>\n",
              "      <td>12.8</td>\n",
              "      <td>2.5</td>\n",
              "    </tr>\n",
              "  </tbody>\n",
              "</table>\n",
              "</div>"
            ],
            "text/plain": [
              "   VendorID tpep_pickup_datetime  ... total_amount  congestion_surcharge\n",
              "0       1.0  2019-12-01 00:26:58  ...         18.3                   2.5\n",
              "1       1.0  2019-12-01 00:12:08  ...          3.8                   0.0\n",
              "2       1.0  2019-12-01 00:25:53  ...          3.8                   0.0\n",
              "3       1.0  2019-12-01 00:12:03  ...         39.8                   0.0\n",
              "4       1.0  2019-12-01 00:05:27  ...         12.8                   2.5\n",
              "\n",
              "[5 rows x 18 columns]"
            ]
          },
          "metadata": {
            "tags": []
          },
          "execution_count": 12
        }
      ]
    },
    {
      "cell_type": "code",
      "metadata": {
        "id": "QqdsoAoZnoew"
      },
      "source": [
        "df_unclear = df_dec.append(df_jan, ignore_index=True)\n",
        "df = df_unclear.copy()"
      ],
      "execution_count": null,
      "outputs": []
    },
    {
      "cell_type": "code",
      "metadata": {
        "id": "iFIoN14z-LUF"
      },
      "source": [
        "df_jan, df_dec = [], []"
      ],
      "execution_count": null,
      "outputs": []
    },
    {
      "cell_type": "markdown",
      "metadata": {
        "id": "Pce-I0Tdpblv"
      },
      "source": [
        "#***Разведочный анализ***#\n"
      ]
    },
    {
      "cell_type": "code",
      "metadata": {
        "colab": {
          "base_uri": "https://localhost:8080/"
        },
        "id": "SO45NQ79ne9-",
        "outputId": "d6c0824d-813c-4091-a912-03be589e908f"
      },
      "source": [
        "df.dtypes"
      ],
      "execution_count": null,
      "outputs": [
        {
          "output_type": "execute_result",
          "data": {
            "text/plain": [
              "VendorID                 float64\n",
              "tpep_pickup_datetime      object\n",
              "tpep_dropoff_datetime     object\n",
              "passenger_count          float64\n",
              "trip_distance            float64\n",
              "RatecodeID               float64\n",
              "store_and_fwd_flag        object\n",
              "PULocationID               int64\n",
              "DOLocationID               int64\n",
              "payment_type             float64\n",
              "fare_amount              float64\n",
              "extra                    float64\n",
              "mta_tax                  float64\n",
              "tip_amount               float64\n",
              "tolls_amount             float64\n",
              "improvement_surcharge    float64\n",
              "total_amount             float64\n",
              "congestion_surcharge     float64\n",
              "dtype: object"
            ]
          },
          "metadata": {
            "tags": []
          },
          "execution_count": 7
        }
      ]
    },
    {
      "cell_type": "code",
      "metadata": {
        "colab": {
          "base_uri": "https://localhost:8080/"
        },
        "id": "1HMjjRdZn6Or",
        "outputId": "9a111591-2a9c-4506-d5ad-37635a4e5189"
      },
      "source": [
        "df.isna().sum()"
      ],
      "execution_count": null,
      "outputs": [
        {
          "output_type": "execute_result",
          "data": {
            "text/plain": [
              "VendorID                 116459\n",
              "tpep_pickup_datetime          0\n",
              "tpep_dropoff_datetime         0\n",
              "passenger_count          116459\n",
              "trip_distance                 0\n",
              "RatecodeID               116459\n",
              "store_and_fwd_flag       116459\n",
              "PULocationID                  0\n",
              "DOLocationID                  0\n",
              "payment_type             116459\n",
              "fare_amount                   0\n",
              "extra                         0\n",
              "mta_tax                       0\n",
              "tip_amount                    0\n",
              "tolls_amount                  0\n",
              "improvement_surcharge         0\n",
              "total_amount                  0\n",
              "congestion_surcharge          0\n",
              "dtype: int64"
            ]
          },
          "metadata": {
            "tags": []
          },
          "execution_count": 34
        }
      ]
    },
    {
      "cell_type": "markdown",
      "metadata": {
        "id": "XPBRGFo6JfKC"
      },
      "source": [
        "Пропущенные значения составляют лишь малую часть данных от общего числа, поэтому вместо замены на среднее/медиану/моду просто дропну их."
      ]
    },
    {
      "cell_type": "code",
      "metadata": {
        "id": "GDCyIdWdrs8y"
      },
      "source": [
        "df.dropna(inplace=True)"
      ],
      "execution_count": null,
      "outputs": []
    },
    {
      "cell_type": "code",
      "metadata": {
        "id": "QLY-hs7Oyh5x"
      },
      "source": [
        "df = df.astype({'VendorID': 'int', 'RatecodeID': 'int', 'payment_type' : 'int'})"
      ],
      "execution_count": null,
      "outputs": []
    },
    {
      "cell_type": "code",
      "metadata": {
        "id": "oY64DSc2yrUI"
      },
      "source": [
        "df[[\"tpep_pickup_datetime\", \"tpep_dropoff_datetime\"]] = df[[\"tpep_pickup_datetime\", \"tpep_dropoff_datetime\"]].astype('datetime64[ns]')"
      ],
      "execution_count": null,
      "outputs": []
    },
    {
      "cell_type": "markdown",
      "metadata": {
        "id": "cbZACYWcJw1V"
      },
      "source": [
        "Посмотрим описательную статистику:"
      ]
    },
    {
      "cell_type": "code",
      "metadata": {
        "colab": {
          "base_uri": "https://localhost:8080/",
          "height": 337
        },
        "id": "ePswfOtrr34q",
        "outputId": "4ff2ddd8-63fc-4acf-9aaf-4dc8ab7be525"
      },
      "source": [
        "df.describe()"
      ],
      "execution_count": null,
      "outputs": [
        {
          "output_type": "execute_result",
          "data": {
            "text/html": [
              "<div>\n",
              "<style scoped>\n",
              "    .dataframe tbody tr th:only-of-type {\n",
              "        vertical-align: middle;\n",
              "    }\n",
              "\n",
              "    .dataframe tbody tr th {\n",
              "        vertical-align: top;\n",
              "    }\n",
              "\n",
              "    .dataframe thead th {\n",
              "        text-align: right;\n",
              "    }\n",
              "</style>\n",
              "<table border=\"1\" class=\"dataframe\">\n",
              "  <thead>\n",
              "    <tr style=\"text-align: right;\">\n",
              "      <th></th>\n",
              "      <th>VendorID</th>\n",
              "      <th>passenger_count</th>\n",
              "      <th>trip_distance</th>\n",
              "      <th>RatecodeID</th>\n",
              "      <th>PULocationID</th>\n",
              "      <th>DOLocationID</th>\n",
              "      <th>payment_type</th>\n",
              "      <th>fare_amount</th>\n",
              "      <th>extra</th>\n",
              "      <th>mta_tax</th>\n",
              "      <th>tip_amount</th>\n",
              "      <th>tolls_amount</th>\n",
              "      <th>improvement_surcharge</th>\n",
              "      <th>total_amount</th>\n",
              "      <th>congestion_surcharge</th>\n",
              "    </tr>\n",
              "  </thead>\n",
              "  <tbody>\n",
              "    <tr>\n",
              "      <th>count</th>\n",
              "      <td>1.318487e+07</td>\n",
              "      <td>1.318487e+07</td>\n",
              "      <td>1.318487e+07</td>\n",
              "      <td>1.318487e+07</td>\n",
              "      <td>1.318487e+07</td>\n",
              "      <td>1.318487e+07</td>\n",
              "      <td>1.318487e+07</td>\n",
              "      <td>1.318487e+07</td>\n",
              "      <td>1.318487e+07</td>\n",
              "      <td>1.318487e+07</td>\n",
              "      <td>1.318487e+07</td>\n",
              "      <td>1.318487e+07</td>\n",
              "      <td>1.318487e+07</td>\n",
              "      <td>1.318487e+07</td>\n",
              "      <td>1.318487e+07</td>\n",
              "    </tr>\n",
              "    <tr>\n",
              "      <th>mean</th>\n",
              "      <td>1.667980e+00</td>\n",
              "      <td>1.533787e+00</td>\n",
              "      <td>2.899569e+00</td>\n",
              "      <td>1.062944e+00</td>\n",
              "      <td>1.644183e+02</td>\n",
              "      <td>1.623319e+02</td>\n",
              "      <td>1.285196e+00</td>\n",
              "      <td>1.298932e+01</td>\n",
              "      <td>1.096852e+00</td>\n",
              "      <td>4.936646e-01</td>\n",
              "      <td>2.236968e+00</td>\n",
              "      <td>3.572071e-01</td>\n",
              "      <td>2.979711e-01</td>\n",
              "      <td>1.900764e+01</td>\n",
              "      <td>2.295475e+00</td>\n",
              "    </tr>\n",
              "    <tr>\n",
              "      <th>std</th>\n",
              "      <td>4.709382e-01</td>\n",
              "      <td>1.163589e+00</td>\n",
              "      <td>6.510600e+00</td>\n",
              "      <td>8.757305e-01</td>\n",
              "      <td>6.568355e+01</td>\n",
              "      <td>7.002877e+01</td>\n",
              "      <td>4.815006e-01</td>\n",
              "      <td>1.104274e+02</td>\n",
              "      <td>1.252851e+00</td>\n",
              "      <td>6.866321e-02</td>\n",
              "      <td>2.824207e+00</td>\n",
              "      <td>1.721354e+00</td>\n",
              "      <td>3.396974e-02</td>\n",
              "      <td>1.107658e+02</td>\n",
              "      <td>7.070883e-01</td>\n",
              "    </tr>\n",
              "    <tr>\n",
              "      <th>min</th>\n",
              "      <td>1.000000e+00</td>\n",
              "      <td>0.000000e+00</td>\n",
              "      <td>-2.301000e+01</td>\n",
              "      <td>1.000000e+00</td>\n",
              "      <td>1.000000e+00</td>\n",
              "      <td>1.000000e+00</td>\n",
              "      <td>1.000000e+00</td>\n",
              "      <td>-1.472000e+03</td>\n",
              "      <td>-2.700000e+01</td>\n",
              "      <td>-5.000000e-01</td>\n",
              "      <td>-2.008000e+02</td>\n",
              "      <td>-4.050000e+01</td>\n",
              "      <td>-3.000000e-01</td>\n",
              "      <td>-1.472800e+03</td>\n",
              "      <td>-2.500000e+00</td>\n",
              "    </tr>\n",
              "    <tr>\n",
              "      <th>25%</th>\n",
              "      <td>1.000000e+00</td>\n",
              "      <td>1.000000e+00</td>\n",
              "      <td>9.500000e-01</td>\n",
              "      <td>1.000000e+00</td>\n",
              "      <td>1.320000e+02</td>\n",
              "      <td>1.130000e+02</td>\n",
              "      <td>1.000000e+00</td>\n",
              "      <td>6.500000e+00</td>\n",
              "      <td>0.000000e+00</td>\n",
              "      <td>5.000000e-01</td>\n",
              "      <td>0.000000e+00</td>\n",
              "      <td>0.000000e+00</td>\n",
              "      <td>3.000000e-01</td>\n",
              "      <td>1.127000e+01</td>\n",
              "      <td>2.500000e+00</td>\n",
              "    </tr>\n",
              "    <tr>\n",
              "      <th>50%</th>\n",
              "      <td>2.000000e+00</td>\n",
              "      <td>1.000000e+00</td>\n",
              "      <td>1.600000e+00</td>\n",
              "      <td>1.000000e+00</td>\n",
              "      <td>1.620000e+02</td>\n",
              "      <td>1.620000e+02</td>\n",
              "      <td>1.000000e+00</td>\n",
              "      <td>9.500000e+00</td>\n",
              "      <td>5.000000e-01</td>\n",
              "      <td>5.000000e-01</td>\n",
              "      <td>1.950000e+00</td>\n",
              "      <td>0.000000e+00</td>\n",
              "      <td>3.000000e-01</td>\n",
              "      <td>1.475000e+01</td>\n",
              "      <td>2.500000e+00</td>\n",
              "    </tr>\n",
              "    <tr>\n",
              "      <th>75%</th>\n",
              "      <td>2.000000e+00</td>\n",
              "      <td>2.000000e+00</td>\n",
              "      <td>2.940000e+00</td>\n",
              "      <td>1.000000e+00</td>\n",
              "      <td>2.340000e+02</td>\n",
              "      <td>2.340000e+02</td>\n",
              "      <td>2.000000e+00</td>\n",
              "      <td>1.450000e+01</td>\n",
              "      <td>2.500000e+00</td>\n",
              "      <td>5.000000e-01</td>\n",
              "      <td>2.960000e+00</td>\n",
              "      <td>0.000000e+00</td>\n",
              "      <td>3.000000e-01</td>\n",
              "      <td>2.030000e+01</td>\n",
              "      <td>2.500000e+00</td>\n",
              "    </tr>\n",
              "    <tr>\n",
              "      <th>max</th>\n",
              "      <td>2.000000e+00</td>\n",
              "      <td>9.000000e+00</td>\n",
              "      <td>1.913018e+04</td>\n",
              "      <td>9.900000e+01</td>\n",
              "      <td>2.650000e+02</td>\n",
              "      <td>2.650000e+02</td>\n",
              "      <td>5.000000e+00</td>\n",
              "      <td>3.984684e+05</td>\n",
              "      <td>1.130100e+02</td>\n",
              "      <td>3.080000e+01</td>\n",
              "      <td>1.100000e+03</td>\n",
              "      <td>9.105000e+02</td>\n",
              "      <td>3.000000e-01</td>\n",
              "      <td>3.984712e+05</td>\n",
              "      <td>3.000000e+00</td>\n",
              "    </tr>\n",
              "  </tbody>\n",
              "</table>\n",
              "</div>"
            ],
            "text/plain": [
              "           VendorID  passenger_count  ...  total_amount  congestion_surcharge\n",
              "count  1.318487e+07     1.318487e+07  ...  1.318487e+07          1.318487e+07\n",
              "mean   1.667980e+00     1.533787e+00  ...  1.900764e+01          2.295475e+00\n",
              "std    4.709382e-01     1.163589e+00  ...  1.107658e+02          7.070883e-01\n",
              "min    1.000000e+00     0.000000e+00  ... -1.472800e+03         -2.500000e+00\n",
              "25%    1.000000e+00     1.000000e+00  ...  1.127000e+01          2.500000e+00\n",
              "50%    2.000000e+00     1.000000e+00  ...  1.475000e+01          2.500000e+00\n",
              "75%    2.000000e+00     2.000000e+00  ...  2.030000e+01          2.500000e+00\n",
              "max    2.000000e+00     9.000000e+00  ...  3.984712e+05          3.000000e+00\n",
              "\n",
              "[8 rows x 15 columns]"
            ]
          },
          "metadata": {
            "tags": []
          },
          "execution_count": 12
        }
      ]
    },
    {
      "cell_type": "markdown",
      "metadata": {
        "id": "bGLMHZAD1Nix"
      },
      "source": [
        "\n",
        "\n",
        "В датафрейме присутствуют аномальные отрицательные значения.\n",
        "Избавлюсь от них.\n"
      ]
    },
    {
      "cell_type": "code",
      "metadata": {
        "id": "utwupQfQscds"
      },
      "source": [
        "df = df.query('trip_distance > 0 & fare_amount\t> 0 & extra > 0 &\tmta_tax > 0')"
      ],
      "execution_count": null,
      "outputs": []
    },
    {
      "cell_type": "markdown",
      "metadata": {
        "id": "P1tgLI501kuZ"
      },
      "source": [
        "\n",
        "\n",
        "#***1. Исследование корреляции стоимости поездки с другими факторами.***#\n",
        "\n"
      ]
    },
    {
      "cell_type": "code",
      "metadata": {
        "colab": {
          "base_uri": "https://localhost:8080/",
          "height": 719
        },
        "id": "_EqdNizm2JW6",
        "outputId": "998bddd2-4dda-483d-c6da-73203d3b9d18"
      },
      "source": [
        "corr = df.corr()\n",
        "\n",
        "fig, ax = plt.subplots(figsize=(12,10))\n",
        "ax.set_title('Pairwise correlation for columns of dataframe')\n",
        "ax = sns.heatmap(corr, ax=ax, annot=True)"
      ],
      "execution_count": null,
      "outputs": [
        {
          "output_type": "display_data",
          "data": {
            "image/png": "[encoded data removed]",
            "text/plain": [
              "<Figure size 864x720 with 2 Axes>"
            ]
          },
          "metadata": {
            "tags": [],
            "needs_background": "light"
          }
        }
      ]
    },
    {
      "cell_type": "code",
      "metadata": {
        "id": "CbTemv0G_KB5",
        "colab": {
          "base_uri": "https://localhost:8080/",
          "height": 296
        },
        "outputId": "4d67dc98-634e-4d58-bc2f-be951f145ce6"
      },
      "source": [
        "sns.scatterplot(data=df, x=\"total_amount\", y=\"trip_distance\")\n",
        "plt.title('Distribution of trip distance')\n",
        "plt.show()"
      ],
      "execution_count": null,
      "outputs": [
        {
          "output_type": "display_data",
          "data": {
            "image/png": "[encoded data removed]",
            "text/plain": [
              "<Figure size 432x288 with 1 Axes>"
            ]
          },
          "metadata": {
            "tags": [],
            "needs_background": "light"
          }
        }
      ]
    },
    {
      "cell_type": "code",
      "metadata": {
        "id": "l2527fEFDMCY",
        "colab": {
          "base_uri": "https://localhost:8080/",
          "height": 296
        },
        "outputId": "4103579a-9b37-4f98-b283-02c7b0a9863b"
      },
      "source": [
        "sns.scatterplot(data=df, x=\"total_amount\", y=\"fare_amount\")\n",
        "plt.title('Distribution of fare amount')\n",
        "plt.show()"
      ],
      "execution_count": null,
      "outputs": [
        {
          "output_type": "display_data",
          "data": {
            "image/png": "[encoded data removed]",
            "text/plain": [
              "<Figure size 432x288 with 1 Axes>"
            ]
          },
          "metadata": {
            "tags": [],
            "needs_background": "light"
          }
        }
      ]
    },
    {
      "cell_type": "markdown",
      "metadata": {
        "id": "nm4jaaOx7JB2"
      },
      "source": [
        "Стоимость поездки (total_amount) имеет сильную положительную корреляцию с дистанцией поездки (trip_distance) и со стоимостью проезда по счетчику (fare_amount), а также слабую корреляцию с суммой чаевых по карте (tip_amount) и с суммой всех сборов (tolls_amount).\n",
        "\n",
        "Объяснить это просто - чем больше дистанция поездки, тем она дороже, а стоимость проезда по счетчику вносит наибольший вклад в сумму чека."
      ]
    },
    {
      "cell_type": "markdown",
      "metadata": {
        "id": "ElRULlhA7RrV"
      },
      "source": [
        "#***2. Поиск аномальных поездок.***#"
      ]
    },
    {
      "cell_type": "markdown",
      "metadata": {
        "id": "UyKksHsdCvW0"
      },
      "source": [
        "Во первых, это поездки, значения дистанции поездки, стоимости поездки по счетчику, а также чаевых по карте и сумме всех соборов которых отрицательны."
      ]
    },
    {
      "cell_type": "code",
      "metadata": {
        "id": "C-I6fCOa7cVK"
      },
      "source": [
        "df_anomaly = df.query('trip_distance < 0 & fare_amount < 0 & extra < 0 & mta_tax < 0')"
      ],
      "execution_count": null,
      "outputs": []
    },
    {
      "cell_type": "markdown",
      "metadata": {
        "id": "9KmKcW-1DxV7"
      },
      "source": [
        "Построим новую фичу на основе данных о времени посадки и высадки пассажиров:"
      ]
    },
    {
      "cell_type": "code",
      "metadata": {
        "id": "jqFpoULAEAtO"
      },
      "source": [
        "df['trip_duration'] = (df['tpep_dropoff_datetime'] - df['tpep_pickup_datetime']).astype('timedelta64[m]')"
      ],
      "execution_count": null,
      "outputs": []
    },
    {
      "cell_type": "code",
      "metadata": {
        "colab": {
          "base_uri": "https://localhost:8080/",
          "height": 131
        },
        "id": "dWT3cgMKEINH",
        "outputId": "d34e3c65-d1c5-496b-e965-c54ec21aef4f"
      },
      "source": [
        "df[df['trip_duration'] < 0]"
      ],
      "execution_count": null,
      "outputs": [
        {
          "output_type": "execute_result",
          "data": {
            "text/html": [
              "<div>\n",
              "<style scoped>\n",
              "    .dataframe tbody tr th:only-of-type {\n",
              "        vertical-align: middle;\n",
              "    }\n",
              "\n",
              "    .dataframe tbody tr th {\n",
              "        vertical-align: top;\n",
              "    }\n",
              "\n",
              "    .dataframe thead th {\n",
              "        text-align: right;\n",
              "    }\n",
              "</style>\n",
              "<table border=\"1\" class=\"dataframe\">\n",
              "  <thead>\n",
              "    <tr style=\"text-align: right;\">\n",
              "      <th></th>\n",
              "      <th>VendorID</th>\n",
              "      <th>tpep_pickup_datetime</th>\n",
              "      <th>tpep_dropoff_datetime</th>\n",
              "      <th>passenger_count</th>\n",
              "      <th>trip_distance</th>\n",
              "      <th>RatecodeID</th>\n",
              "      <th>store_and_fwd_flag</th>\n",
              "      <th>PULocationID</th>\n",
              "      <th>DOLocationID</th>\n",
              "      <th>payment_type</th>\n",
              "      <th>fare_amount</th>\n",
              "      <th>extra</th>\n",
              "      <th>mta_tax</th>\n",
              "      <th>tip_amount</th>\n",
              "      <th>tolls_amount</th>\n",
              "      <th>improvement_surcharge</th>\n",
              "      <th>total_amount</th>\n",
              "      <th>congestion_surcharge</th>\n",
              "      <th>trip_duration</th>\n",
              "    </tr>\n",
              "  </thead>\n",
              "  <tbody>\n",
              "    <tr>\n",
              "      <th>2036290</th>\n",
              "      <td>1</td>\n",
              "      <td>2019-12-09 15:53:10</td>\n",
              "      <td>2019-12-05 15:33:42</td>\n",
              "      <td>1.0</td>\n",
              "      <td>3.7</td>\n",
              "      <td>1</td>\n",
              "      <td>N</td>\n",
              "      <td>186</td>\n",
              "      <td>13</td>\n",
              "      <td>1</td>\n",
              "      <td>19.5</td>\n",
              "      <td>2.5</td>\n",
              "      <td>0.5</td>\n",
              "      <td>3.00</td>\n",
              "      <td>0.0</td>\n",
              "      <td>0.3</td>\n",
              "      <td>25.80</td>\n",
              "      <td>2.5</td>\n",
              "      <td>-5780.0</td>\n",
              "    </tr>\n",
              "    <tr>\n",
              "      <th>7436357</th>\n",
              "      <td>1</td>\n",
              "      <td>2020-01-04 08:19:55</td>\n",
              "      <td>2020-01-02 10:09:33</td>\n",
              "      <td>1.0</td>\n",
              "      <td>3.5</td>\n",
              "      <td>1</td>\n",
              "      <td>N</td>\n",
              "      <td>107</td>\n",
              "      <td>237</td>\n",
              "      <td>1</td>\n",
              "      <td>16.5</td>\n",
              "      <td>2.5</td>\n",
              "      <td>0.5</td>\n",
              "      <td>4.95</td>\n",
              "      <td>0.0</td>\n",
              "      <td>0.3</td>\n",
              "      <td>24.75</td>\n",
              "      <td>2.5</td>\n",
              "      <td>-2771.0</td>\n",
              "    </tr>\n",
              "  </tbody>\n",
              "</table>\n",
              "</div>"
            ],
            "text/plain": [
              "         VendorID tpep_pickup_datetime  ... congestion_surcharge  trip_duration\n",
              "2036290         1  2019-12-09 15:53:10  ...                  2.5        -5780.0\n",
              "7436357         1  2020-01-04 08:19:55  ...                  2.5        -2771.0\n",
              "\n",
              "[2 rows x 19 columns]"
            ]
          },
          "metadata": {
            "tags": []
          },
          "execution_count": 13
        }
      ]
    },
    {
      "cell_type": "markdown",
      "metadata": {
        "id": "R_25oG0bEbPG"
      },
      "source": [
        "Получили несколько записей, в которых длительность поездки отрицательна, что явно выглядит как аномалии."
      ]
    },
    {
      "cell_type": "code",
      "metadata": {
        "id": "57sy9qhPEx9Q"
      },
      "source": [
        "df_anomaly = df_anomaly.append(df[df['trip_duration'] < 0], ignore_index=True)"
      ],
      "execution_count": null,
      "outputs": []
    },
    {
      "cell_type": "code",
      "metadata": {
        "id": "2zlY9LhTPC9O"
      },
      "source": [
        "df = df[df['trip_duration'] >= 0]"
      ],
      "execution_count": null,
      "outputs": []
    },
    {
      "cell_type": "markdown",
      "metadata": {
        "id": "1mNPrQx7Zcu0"
      },
      "source": [
        "Проверим, нет ли поездок, совершенных в даты отличные от декабря 2019 и января 2020."
      ]
    },
    {
      "cell_type": "code",
      "metadata": {
        "colab": {
          "base_uri": "https://localhost:8080/"
        },
        "id": "61Hw40qUZbgx",
        "outputId": "516fa854-381f-4f89-b90b-858e49d36022"
      },
      "source": [
        "len(df[df['tpep_pickup_datetime'] >= '2020-02-01'].index)"
      ],
      "execution_count": null,
      "outputs": [
        {
          "output_type": "execute_result",
          "data": {
            "text/plain": [
              "58"
            ]
          },
          "metadata": {
            "tags": []
          },
          "execution_count": 21
        }
      ]
    },
    {
      "cell_type": "code",
      "metadata": {
        "colab": {
          "base_uri": "https://localhost:8080/"
        },
        "id": "v51Xj0X8Yd96",
        "outputId": "2fb5abaa-ec44-474e-eba3-ed2c66930a16"
      },
      "source": [
        "len(df[df['tpep_pickup_datetime'] <= '2019-11-30'].index)"
      ],
      "execution_count": null,
      "outputs": [
        {
          "output_type": "execute_result",
          "data": {
            "text/plain": [
              "55"
            ]
          },
          "metadata": {
            "tags": []
          },
          "execution_count": 22
        }
      ]
    },
    {
      "cell_type": "markdown",
      "metadata": {
        "id": "-stb46NxbSAs"
      },
      "source": [
        "Действительно, такие поездки присутствуют, что является аномалией."
      ]
    },
    {
      "cell_type": "code",
      "metadata": {
        "id": "KxpIWkbabPG3"
      },
      "source": [
        "df_anomaly = df_anomaly.append(df[df['tpep_pickup_datetime'] <= '2019-11-30'], ignore_index=True)\n",
        "df_anomaly = df_anomaly.append(df[df['tpep_pickup_datetime'] >= '2020-02-01'], ignore_index=True)"
      ],
      "execution_count": null,
      "outputs": []
    },
    {
      "cell_type": "code",
      "metadata": {
        "id": "qZeoU588b0tw"
      },
      "source": [
        "df = df[df['tpep_pickup_datetime'] < '2020-02-01']\n",
        "df = df[df['tpep_pickup_datetime'] > '2019-11-30']"
      ],
      "execution_count": null,
      "outputs": []
    },
    {
      "cell_type": "markdown",
      "metadata": {
        "id": "dRStOU1Jev35"
      },
      "source": [
        "Изучим выбросы с помощью boxplot:"
      ]
    },
    {
      "cell_type": "code",
      "metadata": {
        "colab": {
          "base_uri": "https://localhost:8080/",
          "height": 828
        },
        "id": "NAMYEdRjNVW-",
        "outputId": "f28de369-a849-4171-e695-18d612849cf9"
      },
      "source": [
        "boxplot = df.boxplot(grid=False, rot=90, figsize=(12, 12))\n",
        "plt.title('Boxplots of numerical data')\n",
        "plt.show()"
      ],
      "execution_count": null,
      "outputs": [
        {
          "output_type": "display_data",
          "data": {
            "image/png": "[encoded data removed]",
            "text/plain": [
              "<Figure size 864x864 with 1 Axes>"
            ]
          },
          "metadata": {
            "tags": [],
            "needs_background": "light"
          }
        }
      ]
    },
    {
      "cell_type": "markdown",
      "metadata": {
        "id": "o7xd1EeocdaG"
      },
      "source": [
        "Так как в датафрейсе присутствуют данные, соответсвующие разным тарифам, стоит поискать выбросы не во всем датафрейме сразу, а внутри каждого тарифа."
      ]
    },
    {
      "cell_type": "code",
      "metadata": {
        "colab": {
          "base_uri": "https://localhost:8080/"
        },
        "id": "O4a3qfSSpmYU",
        "outputId": "bac11222-efbd-4a9a-8a04-9c14e95e2ea3"
      },
      "source": [
        "df['RatecodeID'].unique()"
      ],
      "execution_count": null,
      "outputs": [
        {
          "output_type": "execute_result",
          "data": {
            "text/plain": [
              "array([ 1,  2,  4,  5, 99,  3])"
            ]
          },
          "metadata": {
            "tags": []
          },
          "execution_count": 42
        }
      ]
    },
    {
      "cell_type": "markdown",
      "metadata": {
        "id": "Vg8ZT6PcqG9x"
      },
      "source": [
        "В столбце RatecodeID присутстсвует редко встречающаяся значение (99), которого нет в документации к данным."
      ]
    },
    {
      "cell_type": "code",
      "metadata": {
        "id": "N6a2WwY2rfMt"
      },
      "source": [
        "df_anomaly = df_anomaly.append(df[df['RatecodeID'] == 99], ignore_index=True)"
      ],
      "execution_count": null,
      "outputs": []
    },
    {
      "cell_type": "markdown",
      "metadata": {
        "id": "zqw4T-GXWFoy"
      },
      "source": [
        "Для определения выбросов воспользуемся IQR. Будем рассматривать только сильные выбросы, имеющие крайние отклонения. Для большинства случаев будем рассматривать только верхние пределы, так как нижние (в виду особенностей услуг автоперевозок) не представляют особого интереса."
      ]
    },
    {
      "cell_type": "code",
      "metadata": {
        "id": "RQsPKmr0odPB"
      },
      "source": [
        "ratecode =  [1, 2, 3, 4, 5]\n",
        "\n",
        "list1 = ['passenger_count',\t'trip_distance',\t'fare_amount',\t'extra',\t'mta_tax',\t'tip_amount',\t\n",
        "         'tolls_amount', 'trip_duration',\t'improvement_surcharge', 'total_amount',\t'congestion_surcharge']\n",
        "\n",
        "\n",
        "for x in ratecode:\n",
        "  for i in list1:\n",
        "    df_rate = df[df['RatecodeID'] == x]\n",
        "    q25, q75 = df_rate[i].quantile(.25), df_rate[i].quantile(.75)\n",
        "    iqr = q75 - q25\n",
        "    cut = iqr * 3\n",
        "    up = q75 + cut\n",
        "    df_anomaly = df_anomaly.append(df_rate[df_rate[i] > up], ignore_index=True)"
      ],
      "execution_count": null,
      "outputs": []
    },
    {
      "cell_type": "code",
      "metadata": {
        "colab": {
          "base_uri": "https://localhost:8080/",
          "height": 439
        },
        "id": "ZqNd2yZFfGHz",
        "outputId": "8dbcaf44-c488-412a-e67e-e97f71830086"
      },
      "source": [
        "df_anomaly.drop_duplicates(inplace=True)\n",
        "df_anomaly"
      ],
      "execution_count": null,
      "outputs": [
        {
          "output_type": "execute_result",
          "data": {
            "text/html": [
              "<div>\n",
              "<style scoped>\n",
              "    .dataframe tbody tr th:only-of-type {\n",
              "        vertical-align: middle;\n",
              "    }\n",
              "\n",
              "    .dataframe tbody tr th {\n",
              "        vertical-align: top;\n",
              "    }\n",
              "\n",
              "    .dataframe thead th {\n",
              "        text-align: right;\n",
              "    }\n",
              "</style>\n",
              "<table border=\"1\" class=\"dataframe\">\n",
              "  <thead>\n",
              "    <tr style=\"text-align: right;\">\n",
              "      <th></th>\n",
              "      <th>VendorID</th>\n",
              "      <th>tpep_pickup_datetime</th>\n",
              "      <th>tpep_dropoff_datetime</th>\n",
              "      <th>passenger_count</th>\n",
              "      <th>trip_distance</th>\n",
              "      <th>RatecodeID</th>\n",
              "      <th>store_and_fwd_flag</th>\n",
              "      <th>PULocationID</th>\n",
              "      <th>DOLocationID</th>\n",
              "      <th>payment_type</th>\n",
              "      <th>fare_amount</th>\n",
              "      <th>extra</th>\n",
              "      <th>mta_tax</th>\n",
              "      <th>tip_amount</th>\n",
              "      <th>tolls_amount</th>\n",
              "      <th>improvement_surcharge</th>\n",
              "      <th>total_amount</th>\n",
              "      <th>congestion_surcharge</th>\n",
              "      <th>trip_duration</th>\n",
              "    </tr>\n",
              "  </thead>\n",
              "  <tbody>\n",
              "    <tr>\n",
              "      <th>0</th>\n",
              "      <td>1</td>\n",
              "      <td>2019-12-09 15:53:10</td>\n",
              "      <td>2019-12-05 15:33:42</td>\n",
              "      <td>1.0</td>\n",
              "      <td>3.70</td>\n",
              "      <td>1</td>\n",
              "      <td>N</td>\n",
              "      <td>186</td>\n",
              "      <td>13</td>\n",
              "      <td>1</td>\n",
              "      <td>19.50</td>\n",
              "      <td>2.5</td>\n",
              "      <td>0.5</td>\n",
              "      <td>3.00</td>\n",
              "      <td>0.0</td>\n",
              "      <td>0.3</td>\n",
              "      <td>25.80</td>\n",
              "      <td>2.5</td>\n",
              "      <td>-5780.0</td>\n",
              "    </tr>\n",
              "    <tr>\n",
              "      <th>1</th>\n",
              "      <td>1</td>\n",
              "      <td>2020-01-04 08:19:55</td>\n",
              "      <td>2020-01-02 10:09:33</td>\n",
              "      <td>1.0</td>\n",
              "      <td>3.50</td>\n",
              "      <td>1</td>\n",
              "      <td>N</td>\n",
              "      <td>107</td>\n",
              "      <td>237</td>\n",
              "      <td>1</td>\n",
              "      <td>16.50</td>\n",
              "      <td>2.5</td>\n",
              "      <td>0.5</td>\n",
              "      <td>4.95</td>\n",
              "      <td>0.0</td>\n",
              "      <td>0.3</td>\n",
              "      <td>24.75</td>\n",
              "      <td>2.5</td>\n",
              "      <td>-2771.0</td>\n",
              "    </tr>\n",
              "    <tr>\n",
              "      <th>2</th>\n",
              "      <td>2</td>\n",
              "      <td>2008-12-31 23:03:32</td>\n",
              "      <td>2008-12-31 23:18:00</td>\n",
              "      <td>5.0</td>\n",
              "      <td>1.64</td>\n",
              "      <td>1</td>\n",
              "      <td>N</td>\n",
              "      <td>144</td>\n",
              "      <td>249</td>\n",
              "      <td>2</td>\n",
              "      <td>8.50</td>\n",
              "      <td>0.5</td>\n",
              "      <td>0.5</td>\n",
              "      <td>0.00</td>\n",
              "      <td>0.0</td>\n",
              "      <td>0.3</td>\n",
              "      <td>12.30</td>\n",
              "      <td>2.5</td>\n",
              "      <td>14.0</td>\n",
              "    </tr>\n",
              "    <tr>\n",
              "      <th>3</th>\n",
              "      <td>2</td>\n",
              "      <td>2009-01-01 00:00:35</td>\n",
              "      <td>2009-01-01 00:29:02</td>\n",
              "      <td>3.0</td>\n",
              "      <td>14.46</td>\n",
              "      <td>1</td>\n",
              "      <td>N</td>\n",
              "      <td>132</td>\n",
              "      <td>129</td>\n",
              "      <td>2</td>\n",
              "      <td>40.00</td>\n",
              "      <td>0.5</td>\n",
              "      <td>0.5</td>\n",
              "      <td>0.00</td>\n",
              "      <td>0.0</td>\n",
              "      <td>0.3</td>\n",
              "      <td>41.30</td>\n",
              "      <td>0.0</td>\n",
              "      <td>28.0</td>\n",
              "    </tr>\n",
              "    <tr>\n",
              "      <th>4</th>\n",
              "      <td>2</td>\n",
              "      <td>2008-12-31 23:55:51</td>\n",
              "      <td>2009-01-01 00:27:49</td>\n",
              "      <td>1.0</td>\n",
              "      <td>9.65</td>\n",
              "      <td>1</td>\n",
              "      <td>N</td>\n",
              "      <td>138</td>\n",
              "      <td>16</td>\n",
              "      <td>2</td>\n",
              "      <td>32.50</td>\n",
              "      <td>1.0</td>\n",
              "      <td>0.5</td>\n",
              "      <td>0.00</td>\n",
              "      <td>0.0</td>\n",
              "      <td>0.3</td>\n",
              "      <td>34.30</td>\n",
              "      <td>0.0</td>\n",
              "      <td>31.0</td>\n",
              "    </tr>\n",
              "    <tr>\n",
              "      <th>...</th>\n",
              "      <td>...</td>\n",
              "      <td>...</td>\n",
              "      <td>...</td>\n",
              "      <td>...</td>\n",
              "      <td>...</td>\n",
              "      <td>...</td>\n",
              "      <td>...</td>\n",
              "      <td>...</td>\n",
              "      <td>...</td>\n",
              "      <td>...</td>\n",
              "      <td>...</td>\n",
              "      <td>...</td>\n",
              "      <td>...</td>\n",
              "      <td>...</td>\n",
              "      <td>...</td>\n",
              "      <td>...</td>\n",
              "      <td>...</td>\n",
              "      <td>...</td>\n",
              "      <td>...</td>\n",
              "    </tr>\n",
              "    <tr>\n",
              "      <th>1212783</th>\n",
              "      <td>2</td>\n",
              "      <td>2019-12-13 08:39:10</td>\n",
              "      <td>2019-12-14 07:43:11</td>\n",
              "      <td>1.0</td>\n",
              "      <td>0.12</td>\n",
              "      <td>5</td>\n",
              "      <td>N</td>\n",
              "      <td>164</td>\n",
              "      <td>264</td>\n",
              "      <td>2</td>\n",
              "      <td>45.00</td>\n",
              "      <td>2.5</td>\n",
              "      <td>0.5</td>\n",
              "      <td>0.00</td>\n",
              "      <td>0.0</td>\n",
              "      <td>0.3</td>\n",
              "      <td>48.30</td>\n",
              "      <td>0.0</td>\n",
              "      <td>1384.0</td>\n",
              "    </tr>\n",
              "    <tr>\n",
              "      <th>1212784</th>\n",
              "      <td>2</td>\n",
              "      <td>2019-12-16 00:00:00</td>\n",
              "      <td>2019-12-16 23:42:49</td>\n",
              "      <td>2.0</td>\n",
              "      <td>0.67</td>\n",
              "      <td>5</td>\n",
              "      <td>N</td>\n",
              "      <td>229</td>\n",
              "      <td>264</td>\n",
              "      <td>2</td>\n",
              "      <td>76.50</td>\n",
              "      <td>2.5</td>\n",
              "      <td>0.5</td>\n",
              "      <td>0.00</td>\n",
              "      <td>0.0</td>\n",
              "      <td>0.3</td>\n",
              "      <td>79.80</td>\n",
              "      <td>0.0</td>\n",
              "      <td>1422.0</td>\n",
              "    </tr>\n",
              "    <tr>\n",
              "      <th>1212785</th>\n",
              "      <td>2</td>\n",
              "      <td>2019-12-17 20:40:51</td>\n",
              "      <td>2019-12-18 19:43:07</td>\n",
              "      <td>1.0</td>\n",
              "      <td>34.50</td>\n",
              "      <td>5</td>\n",
              "      <td>N</td>\n",
              "      <td>164</td>\n",
              "      <td>264</td>\n",
              "      <td>2</td>\n",
              "      <td>150.00</td>\n",
              "      <td>2.5</td>\n",
              "      <td>0.5</td>\n",
              "      <td>0.00</td>\n",
              "      <td>10.5</td>\n",
              "      <td>0.3</td>\n",
              "      <td>163.80</td>\n",
              "      <td>0.0</td>\n",
              "      <td>1382.0</td>\n",
              "    </tr>\n",
              "    <tr>\n",
              "      <th>1212786</th>\n",
              "      <td>2</td>\n",
              "      <td>2020-01-09 17:00:54</td>\n",
              "      <td>2020-01-09 20:23:23</td>\n",
              "      <td>1.0</td>\n",
              "      <td>1.35</td>\n",
              "      <td>5</td>\n",
              "      <td>N</td>\n",
              "      <td>125</td>\n",
              "      <td>132</td>\n",
              "      <td>2</td>\n",
              "      <td>32.79</td>\n",
              "      <td>0.8</td>\n",
              "      <td>0.5</td>\n",
              "      <td>0.00</td>\n",
              "      <td>0.0</td>\n",
              "      <td>0.0</td>\n",
              "      <td>34.09</td>\n",
              "      <td>0.0</td>\n",
              "      <td>202.0</td>\n",
              "    </tr>\n",
              "    <tr>\n",
              "      <th>1212787</th>\n",
              "      <td>2</td>\n",
              "      <td>2020-01-22 20:31:12</td>\n",
              "      <td>2020-01-23 05:43:38</td>\n",
              "      <td>1.0</td>\n",
              "      <td>12.61</td>\n",
              "      <td>5</td>\n",
              "      <td>N</td>\n",
              "      <td>48</td>\n",
              "      <td>78</td>\n",
              "      <td>2</td>\n",
              "      <td>62.00</td>\n",
              "      <td>2.5</td>\n",
              "      <td>0.5</td>\n",
              "      <td>0.00</td>\n",
              "      <td>0.0</td>\n",
              "      <td>0.3</td>\n",
              "      <td>65.30</td>\n",
              "      <td>0.0</td>\n",
              "      <td>552.0</td>\n",
              "    </tr>\n",
              "  </tbody>\n",
              "</table>\n",
              "<p>589803 rows × 19 columns</p>\n",
              "</div>"
            ],
            "text/plain": [
              "         VendorID tpep_pickup_datetime  ... congestion_surcharge  trip_duration\n",
              "0               1  2019-12-09 15:53:10  ...                  2.5        -5780.0\n",
              "1               1  2020-01-04 08:19:55  ...                  2.5        -2771.0\n",
              "2               2  2008-12-31 23:03:32  ...                  2.5           14.0\n",
              "3               2  2009-01-01 00:00:35  ...                  0.0           28.0\n",
              "4               2  2008-12-31 23:55:51  ...                  0.0           31.0\n",
              "...           ...                  ...  ...                  ...            ...\n",
              "1212783         2  2019-12-13 08:39:10  ...                  0.0         1384.0\n",
              "1212784         2  2019-12-16 00:00:00  ...                  0.0         1422.0\n",
              "1212785         2  2019-12-17 20:40:51  ...                  0.0         1382.0\n",
              "1212786         2  2020-01-09 17:00:54  ...                  0.0          202.0\n",
              "1212787         2  2020-01-22 20:31:12  ...                  0.0          552.0\n",
              "\n",
              "[589803 rows x 19 columns]"
            ]
          },
          "metadata": {
            "tags": []
          },
          "execution_count": 30
        }
      ]
    },
    {
      "cell_type": "markdown",
      "metadata": {
        "id": "vsYNDsqFE-46"
      },
      "source": [
        "Датафрейм с аномальными записями получен. Очистим основной датафрейм от аномалий:"
      ]
    },
    {
      "cell_type": "code",
      "metadata": {
        "colab": {
          "base_uri": "https://localhost:8080/",
          "height": 439
        },
        "id": "7YoD41rSEyOS",
        "outputId": "27df8441-7cd1-4b70-b83f-d368307b2924"
      },
      "source": [
        "df_clear = pd.concat([df, df_anomaly, df_anomaly]).drop_duplicates(keep=False)\n",
        "df_clear"
      ],
      "execution_count": null,
      "outputs": [
        {
          "output_type": "execute_result",
          "data": {
            "text/html": [
              "<div>\n",
              "<style scoped>\n",
              "    .dataframe tbody tr th:only-of-type {\n",
              "        vertical-align: middle;\n",
              "    }\n",
              "\n",
              "    .dataframe tbody tr th {\n",
              "        vertical-align: top;\n",
              "    }\n",
              "\n",
              "    .dataframe thead th {\n",
              "        text-align: right;\n",
              "    }\n",
              "</style>\n",
              "<table border=\"1\" class=\"dataframe\">\n",
              "  <thead>\n",
              "    <tr style=\"text-align: right;\">\n",
              "      <th></th>\n",
              "      <th>VendorID</th>\n",
              "      <th>tpep_pickup_datetime</th>\n",
              "      <th>tpep_dropoff_datetime</th>\n",
              "      <th>passenger_count</th>\n",
              "      <th>trip_distance</th>\n",
              "      <th>RatecodeID</th>\n",
              "      <th>store_and_fwd_flag</th>\n",
              "      <th>PULocationID</th>\n",
              "      <th>DOLocationID</th>\n",
              "      <th>payment_type</th>\n",
              "      <th>fare_amount</th>\n",
              "      <th>extra</th>\n",
              "      <th>mta_tax</th>\n",
              "      <th>tip_amount</th>\n",
              "      <th>tolls_amount</th>\n",
              "      <th>improvement_surcharge</th>\n",
              "      <th>total_amount</th>\n",
              "      <th>congestion_surcharge</th>\n",
              "      <th>trip_duration</th>\n",
              "    </tr>\n",
              "  </thead>\n",
              "  <tbody>\n",
              "    <tr>\n",
              "      <th>0</th>\n",
              "      <td>1</td>\n",
              "      <td>2019-12-01 00:26:58</td>\n",
              "      <td>2019-12-01 00:41:45</td>\n",
              "      <td>1.0</td>\n",
              "      <td>4.20</td>\n",
              "      <td>1</td>\n",
              "      <td>N</td>\n",
              "      <td>142</td>\n",
              "      <td>116</td>\n",
              "      <td>2</td>\n",
              "      <td>14.5</td>\n",
              "      <td>3.0</td>\n",
              "      <td>0.5</td>\n",
              "      <td>0.00</td>\n",
              "      <td>0.0</td>\n",
              "      <td>0.3</td>\n",
              "      <td>18.30</td>\n",
              "      <td>2.5</td>\n",
              "      <td>14.0</td>\n",
              "    </tr>\n",
              "    <tr>\n",
              "      <th>4</th>\n",
              "      <td>1</td>\n",
              "      <td>2019-12-01 00:05:27</td>\n",
              "      <td>2019-12-01 00:16:32</td>\n",
              "      <td>2.0</td>\n",
              "      <td>1.60</td>\n",
              "      <td>1</td>\n",
              "      <td>N</td>\n",
              "      <td>161</td>\n",
              "      <td>237</td>\n",
              "      <td>2</td>\n",
              "      <td>9.0</td>\n",
              "      <td>3.0</td>\n",
              "      <td>0.5</td>\n",
              "      <td>0.00</td>\n",
              "      <td>0.0</td>\n",
              "      <td>0.3</td>\n",
              "      <td>12.80</td>\n",
              "      <td>2.5</td>\n",
              "      <td>11.0</td>\n",
              "    </tr>\n",
              "    <tr>\n",
              "      <th>5</th>\n",
              "      <td>1</td>\n",
              "      <td>2019-12-01 00:58:51</td>\n",
              "      <td>2019-12-01 01:08:37</td>\n",
              "      <td>2.0</td>\n",
              "      <td>1.00</td>\n",
              "      <td>1</td>\n",
              "      <td>N</td>\n",
              "      <td>161</td>\n",
              "      <td>230</td>\n",
              "      <td>2</td>\n",
              "      <td>6.5</td>\n",
              "      <td>3.0</td>\n",
              "      <td>0.5</td>\n",
              "      <td>0.00</td>\n",
              "      <td>0.0</td>\n",
              "      <td>0.3</td>\n",
              "      <td>10.30</td>\n",
              "      <td>2.5</td>\n",
              "      <td>9.0</td>\n",
              "    </tr>\n",
              "    <tr>\n",
              "      <th>6</th>\n",
              "      <td>1</td>\n",
              "      <td>2019-12-01 00:14:19</td>\n",
              "      <td>2019-12-01 00:27:06</td>\n",
              "      <td>0.0</td>\n",
              "      <td>1.70</td>\n",
              "      <td>1</td>\n",
              "      <td>Y</td>\n",
              "      <td>164</td>\n",
              "      <td>163</td>\n",
              "      <td>2</td>\n",
              "      <td>10.0</td>\n",
              "      <td>3.0</td>\n",
              "      <td>0.5</td>\n",
              "      <td>0.00</td>\n",
              "      <td>0.0</td>\n",
              "      <td>0.3</td>\n",
              "      <td>13.80</td>\n",
              "      <td>2.5</td>\n",
              "      <td>12.0</td>\n",
              "    </tr>\n",
              "    <tr>\n",
              "      <th>7</th>\n",
              "      <td>1</td>\n",
              "      <td>2019-12-01 00:29:35</td>\n",
              "      <td>2019-12-01 00:32:29</td>\n",
              "      <td>0.0</td>\n",
              "      <td>0.50</td>\n",
              "      <td>1</td>\n",
              "      <td>N</td>\n",
              "      <td>79</td>\n",
              "      <td>224</td>\n",
              "      <td>1</td>\n",
              "      <td>4.0</td>\n",
              "      <td>3.0</td>\n",
              "      <td>0.5</td>\n",
              "      <td>1.55</td>\n",
              "      <td>0.0</td>\n",
              "      <td>0.3</td>\n",
              "      <td>9.35</td>\n",
              "      <td>2.5</td>\n",
              "      <td>2.0</td>\n",
              "    </tr>\n",
              "    <tr>\n",
              "      <th>...</th>\n",
              "      <td>...</td>\n",
              "      <td>...</td>\n",
              "      <td>...</td>\n",
              "      <td>...</td>\n",
              "      <td>...</td>\n",
              "      <td>...</td>\n",
              "      <td>...</td>\n",
              "      <td>...</td>\n",
              "      <td>...</td>\n",
              "      <td>...</td>\n",
              "      <td>...</td>\n",
              "      <td>...</td>\n",
              "      <td>...</td>\n",
              "      <td>...</td>\n",
              "      <td>...</td>\n",
              "      <td>...</td>\n",
              "      <td>...</td>\n",
              "      <td>...</td>\n",
              "      <td>...</td>\n",
              "    </tr>\n",
              "    <tr>\n",
              "      <th>13235878</th>\n",
              "      <td>2</td>\n",
              "      <td>2020-01-31 23:00:01</td>\n",
              "      <td>2020-01-31 23:21:31</td>\n",
              "      <td>1.0</td>\n",
              "      <td>4.11</td>\n",
              "      <td>1</td>\n",
              "      <td>N</td>\n",
              "      <td>48</td>\n",
              "      <td>75</td>\n",
              "      <td>1</td>\n",
              "      <td>17.5</td>\n",
              "      <td>0.5</td>\n",
              "      <td>0.5</td>\n",
              "      <td>4.26</td>\n",
              "      <td>0.0</td>\n",
              "      <td>0.3</td>\n",
              "      <td>25.56</td>\n",
              "      <td>2.5</td>\n",
              "      <td>21.0</td>\n",
              "    </tr>\n",
              "    <tr>\n",
              "      <th>13235879</th>\n",
              "      <td>2</td>\n",
              "      <td>2020-01-31 23:38:07</td>\n",
              "      <td>2020-01-31 23:52:21</td>\n",
              "      <td>1.0</td>\n",
              "      <td>2.10</td>\n",
              "      <td>1</td>\n",
              "      <td>N</td>\n",
              "      <td>163</td>\n",
              "      <td>246</td>\n",
              "      <td>1</td>\n",
              "      <td>11.0</td>\n",
              "      <td>0.5</td>\n",
              "      <td>0.5</td>\n",
              "      <td>2.96</td>\n",
              "      <td>0.0</td>\n",
              "      <td>0.3</td>\n",
              "      <td>17.76</td>\n",
              "      <td>2.5</td>\n",
              "      <td>14.0</td>\n",
              "    </tr>\n",
              "    <tr>\n",
              "      <th>13235880</th>\n",
              "      <td>2</td>\n",
              "      <td>2020-01-31 23:00:18</td>\n",
              "      <td>2020-01-31 23:19:18</td>\n",
              "      <td>1.0</td>\n",
              "      <td>2.13</td>\n",
              "      <td>1</td>\n",
              "      <td>N</td>\n",
              "      <td>164</td>\n",
              "      <td>79</td>\n",
              "      <td>1</td>\n",
              "      <td>13.0</td>\n",
              "      <td>0.5</td>\n",
              "      <td>0.5</td>\n",
              "      <td>3.36</td>\n",
              "      <td>0.0</td>\n",
              "      <td>0.3</td>\n",
              "      <td>20.16</td>\n",
              "      <td>2.5</td>\n",
              "      <td>19.0</td>\n",
              "    </tr>\n",
              "    <tr>\n",
              "      <th>13235881</th>\n",
              "      <td>2</td>\n",
              "      <td>2020-01-31 23:24:22</td>\n",
              "      <td>2020-01-31 23:40:39</td>\n",
              "      <td>1.0</td>\n",
              "      <td>2.55</td>\n",
              "      <td>1</td>\n",
              "      <td>N</td>\n",
              "      <td>79</td>\n",
              "      <td>68</td>\n",
              "      <td>1</td>\n",
              "      <td>12.5</td>\n",
              "      <td>0.5</td>\n",
              "      <td>0.5</td>\n",
              "      <td>3.26</td>\n",
              "      <td>0.0</td>\n",
              "      <td>0.3</td>\n",
              "      <td>19.56</td>\n",
              "      <td>2.5</td>\n",
              "      <td>16.0</td>\n",
              "    </tr>\n",
              "    <tr>\n",
              "      <th>13235882</th>\n",
              "      <td>2</td>\n",
              "      <td>2020-01-31 23:44:22</td>\n",
              "      <td>2020-01-31 23:54:00</td>\n",
              "      <td>1.0</td>\n",
              "      <td>1.61</td>\n",
              "      <td>1</td>\n",
              "      <td>N</td>\n",
              "      <td>100</td>\n",
              "      <td>142</td>\n",
              "      <td>2</td>\n",
              "      <td>8.5</td>\n",
              "      <td>0.5</td>\n",
              "      <td>0.5</td>\n",
              "      <td>0.00</td>\n",
              "      <td>0.0</td>\n",
              "      <td>0.3</td>\n",
              "      <td>12.30</td>\n",
              "      <td>2.5</td>\n",
              "      <td>9.0</td>\n",
              "    </tr>\n",
              "  </tbody>\n",
              "</table>\n",
              "<p>7573424 rows × 19 columns</p>\n",
              "</div>"
            ],
            "text/plain": [
              "          VendorID tpep_pickup_datetime  ... congestion_surcharge  trip_duration\n",
              "0                1  2019-12-01 00:26:58  ...                  2.5           14.0\n",
              "4                1  2019-12-01 00:05:27  ...                  2.5           11.0\n",
              "5                1  2019-12-01 00:58:51  ...                  2.5            9.0\n",
              "6                1  2019-12-01 00:14:19  ...                  2.5           12.0\n",
              "7                1  2019-12-01 00:29:35  ...                  2.5            2.0\n",
              "...            ...                  ...  ...                  ...            ...\n",
              "13235878         2  2020-01-31 23:00:01  ...                  2.5           21.0\n",
              "13235879         2  2020-01-31 23:38:07  ...                  2.5           14.0\n",
              "13235880         2  2020-01-31 23:00:18  ...                  2.5           19.0\n",
              "13235881         2  2020-01-31 23:24:22  ...                  2.5           16.0\n",
              "13235882         2  2020-01-31 23:44:22  ...                  2.5            9.0\n",
              "\n",
              "[7573424 rows x 19 columns]"
            ]
          },
          "metadata": {
            "tags": []
          },
          "execution_count": 31
        }
      ]
    },
    {
      "cell_type": "markdown",
      "metadata": {
        "id": "vX1RbfoNsLOD"
      },
      "source": [
        "#***3. Построение распределения стоимости поездок и проверка гипотезы о его нормальности.***#"
      ]
    },
    {
      "cell_type": "markdown",
      "metadata": {
        "id": "IYJNkwMWNTUH"
      },
      "source": [
        "Посторим распредление и график квантиль-квантиль:"
      ]
    },
    {
      "cell_type": "code",
      "metadata": {
        "id": "Pr7GVMYcsXOS",
        "colab": {
          "base_uri": "https://localhost:8080/",
          "height": 296
        },
        "outputId": "206c610f-5d3f-4ab1-ac3c-fa3e0955ed36"
      },
      "source": [
        "ax = df_clear['total_amount'].plot(kind='hist', title='Distribution for total amount')\n",
        "ax.set(xlabel='total_amount', ylabel='count')\n",
        "plt.show()"
      ],
      "execution_count": null,
      "outputs": [
        {
          "output_type": "display_data",
          "data": {
            "image/png": "[encoded data removed]",
            "text/plain": [
              "<Figure size 432x288 with 1 Axes>"
            ]
          },
          "metadata": {
            "tags": [],
            "needs_background": "light"
          }
        }
      ]
    },
    {
      "cell_type": "code",
      "metadata": {
        "colab": {
          "base_uri": "https://localhost:8080/",
          "height": 350
        },
        "id": "4wVqfC2Oz3fg",
        "outputId": "132980c6-24b5-4b17-f160-ad343103aff6"
      },
      "source": [
        "fig, ax = plt.subplots(figsize=(6,5))\n",
        "res = scipy.stats.probplot(x=df_clear['total_amount'], plot=ax)\n",
        "ax.set_title(\"Probplot for total_amount\")\n",
        "plt.show()"
      ],
      "execution_count": null,
      "outputs": [
        {
          "output_type": "display_data",
          "data": {
            "image/png": "[encoded data removed]",
            "text/plain": [
              "<Figure size 432x360 with 1 Axes>"
            ]
          },
          "metadata": {
            "tags": [],
            "needs_background": "light"
          }
        }
      ]
    },
    {
      "cell_type": "markdown",
      "metadata": {
        "id": "E_W5NvIUx8Sb"
      },
      "source": [
        "Графики явно указывают на отклоение распредления от нормального.\n",
        "\n",
        "Для достоверности проверки проведем статистический тест. Рассмотрим две гипотезы: нулевая гипотеза – данные распределены нормально, альтернативная гипотеза – данные не имеют нормального распределения.\n",
        "\n",
        "Проведем тест по критерию Шапиро-Уилк, возвращающий значение вычисленной статистики и p-значение. В качестве критического значения возьмем стандартные 0.05. При p-значении меньше 0.05 мы вынуждены отклонить нулевую гипотезу."
      ]
    },
    {
      "cell_type": "code",
      "metadata": {
        "colab": {
          "base_uri": "https://localhost:8080/"
        },
        "id": "Od5pVm9VwIVa",
        "outputId": "4addb27c-4dfb-4606-d00b-a62325bd6ed9"
      },
      "source": [
        "stat, p = scipy.stats.shapiro(df_clear['total_amount']) # тест Шапиро-Уилк\n",
        "\n",
        "print('Statistics=%.3f, p-value=%.5f' % (stat, p))\n",
        "alpha = 0.05\n",
        "if p > alpha:\n",
        "    print('Принять гипотезу о нормальности')\n",
        "else:\n",
        "    print('Отклонить гипотезу о нормальности')"
      ],
      "execution_count": null,
      "outputs": [
        {
          "output_type": "stream",
          "text": [
            "Statistics=0.911, p-value=0.00000\n",
            "Отклонить гипотезу о нормальности\n"
          ],
          "name": "stdout"
        },
        {
          "output_type": "stream",
          "text": [
            "/usr/local/lib/python3.7/dist-packages/scipy/stats/morestats.py:1676: UserWarning: p-value may not be accurate for N > 5000.\n",
            "  warnings.warn(\"p-value may not be accurate for N > 5000.\")\n"
          ],
          "name": "stderr"
        }
      ]
    },
    {
      "cell_type": "markdown",
      "metadata": {
        "id": "mEv4uQXRyePz"
      },
      "source": [
        "Тест показал значение p-value < 0.05, следовательно гипотеза о нормальности отклоняется. \n",
        "\n",
        "Для размеров выборки такого порядка данные тесты, возможно, довольно бесполезны, поскольку даже незначительные отклонения от нормальности будут считаться значительными на обычных уровнях. "
      ]
    },
    {
      "cell_type": "markdown",
      "metadata": {
        "id": "4HTP1fjfyjLZ"
      },
      "source": [
        "#***4.  Описание тарифа (т.е. стоимости поездки от других факторов).***#"
      ]
    },
    {
      "cell_type": "markdown",
      "metadata": {
        "id": "JkyMkbmm0I4r"
      },
      "source": [
        "Посмотрим, как количество совершенных поездок распределено по времени суток:"
      ]
    },
    {
      "cell_type": "markdown",
      "metadata": {
        "id": "ns7GK57b6Otf"
      },
      "source": [
        "Создадим несколько новых фичей:\n",
        "\n",
        "- стоимость поездки за километр\n",
        "- стоиимость поездки за минуту\n",
        "\n",
        "Для расчета использую показания со счетчика (fare_amount), так как сумма налогов фиксированная парктически во всех случаях, а также есть поездки без итоговой оплаты."
      ]
    },
    {
      "cell_type": "code",
      "metadata": {
        "id": "MQEiuC85BFi8"
      },
      "source": [
        "df_clear['price_per_minute'] = df_clear['fare_amount'] / df_clear['trip_duration']"
      ],
      "execution_count": null,
      "outputs": []
    },
    {
      "cell_type": "code",
      "metadata": {
        "id": "gsqWRstdCK_W"
      },
      "source": [
        "df_clear['price_per_mile'] = df_clear['fare_amount'] / df_clear['trip_distance']"
      ],
      "execution_count": null,
      "outputs": []
    },
    {
      "cell_type": "code",
      "metadata": {
        "colab": {
          "base_uri": "https://localhost:8080/",
          "height": 224
        },
        "id": "TBcgfrrr-8S2",
        "outputId": "2724c0e2-ac6d-439b-82b3-334bc5aa65cb"
      },
      "source": [
        "df_clear.head()"
      ],
      "execution_count": null,
      "outputs": [
        {
          "output_type": "execute_result",
          "data": {
            "text/html": [
              "<div>\n",
              "<style scoped>\n",
              "    .dataframe tbody tr th:only-of-type {\n",
              "        vertical-align: middle;\n",
              "    }\n",
              "\n",
              "    .dataframe tbody tr th {\n",
              "        vertical-align: top;\n",
              "    }\n",
              "\n",
              "    .dataframe thead th {\n",
              "        text-align: right;\n",
              "    }\n",
              "</style>\n",
              "<table border=\"1\" class=\"dataframe\">\n",
              "  <thead>\n",
              "    <tr style=\"text-align: right;\">\n",
              "      <th></th>\n",
              "      <th>VendorID</th>\n",
              "      <th>tpep_pickup_datetime</th>\n",
              "      <th>tpep_dropoff_datetime</th>\n",
              "      <th>passenger_count</th>\n",
              "      <th>trip_distance</th>\n",
              "      <th>RatecodeID</th>\n",
              "      <th>store_and_fwd_flag</th>\n",
              "      <th>PULocationID</th>\n",
              "      <th>DOLocationID</th>\n",
              "      <th>payment_type</th>\n",
              "      <th>fare_amount</th>\n",
              "      <th>extra</th>\n",
              "      <th>mta_tax</th>\n",
              "      <th>tip_amount</th>\n",
              "      <th>tolls_amount</th>\n",
              "      <th>improvement_surcharge</th>\n",
              "      <th>total_amount</th>\n",
              "      <th>congestion_surcharge</th>\n",
              "      <th>trip_duration</th>\n",
              "      <th>price_per_minute</th>\n",
              "      <th>price_per_mile</th>\n",
              "    </tr>\n",
              "  </thead>\n",
              "  <tbody>\n",
              "    <tr>\n",
              "      <th>0</th>\n",
              "      <td>1</td>\n",
              "      <td>2019-12-01 00:26:58</td>\n",
              "      <td>2019-12-01 00:41:45</td>\n",
              "      <td>1.0</td>\n",
              "      <td>4.2</td>\n",
              "      <td>1</td>\n",
              "      <td>N</td>\n",
              "      <td>142</td>\n",
              "      <td>116</td>\n",
              "      <td>2</td>\n",
              "      <td>14.5</td>\n",
              "      <td>3.0</td>\n",
              "      <td>0.5</td>\n",
              "      <td>0.00</td>\n",
              "      <td>0.0</td>\n",
              "      <td>0.3</td>\n",
              "      <td>18.30</td>\n",
              "      <td>2.5</td>\n",
              "      <td>14.0</td>\n",
              "      <td>1.035714</td>\n",
              "      <td>3.452381</td>\n",
              "    </tr>\n",
              "    <tr>\n",
              "      <th>4</th>\n",
              "      <td>1</td>\n",
              "      <td>2019-12-01 00:05:27</td>\n",
              "      <td>2019-12-01 00:16:32</td>\n",
              "      <td>2.0</td>\n",
              "      <td>1.6</td>\n",
              "      <td>1</td>\n",
              "      <td>N</td>\n",
              "      <td>161</td>\n",
              "      <td>237</td>\n",
              "      <td>2</td>\n",
              "      <td>9.0</td>\n",
              "      <td>3.0</td>\n",
              "      <td>0.5</td>\n",
              "      <td>0.00</td>\n",
              "      <td>0.0</td>\n",
              "      <td>0.3</td>\n",
              "      <td>12.80</td>\n",
              "      <td>2.5</td>\n",
              "      <td>11.0</td>\n",
              "      <td>0.818182</td>\n",
              "      <td>5.625000</td>\n",
              "    </tr>\n",
              "    <tr>\n",
              "      <th>5</th>\n",
              "      <td>1</td>\n",
              "      <td>2019-12-01 00:58:51</td>\n",
              "      <td>2019-12-01 01:08:37</td>\n",
              "      <td>2.0</td>\n",
              "      <td>1.0</td>\n",
              "      <td>1</td>\n",
              "      <td>N</td>\n",
              "      <td>161</td>\n",
              "      <td>230</td>\n",
              "      <td>2</td>\n",
              "      <td>6.5</td>\n",
              "      <td>3.0</td>\n",
              "      <td>0.5</td>\n",
              "      <td>0.00</td>\n",
              "      <td>0.0</td>\n",
              "      <td>0.3</td>\n",
              "      <td>10.30</td>\n",
              "      <td>2.5</td>\n",
              "      <td>9.0</td>\n",
              "      <td>0.722222</td>\n",
              "      <td>6.500000</td>\n",
              "    </tr>\n",
              "    <tr>\n",
              "      <th>6</th>\n",
              "      <td>1</td>\n",
              "      <td>2019-12-01 00:14:19</td>\n",
              "      <td>2019-12-01 00:27:06</td>\n",
              "      <td>0.0</td>\n",
              "      <td>1.7</td>\n",
              "      <td>1</td>\n",
              "      <td>Y</td>\n",
              "      <td>164</td>\n",
              "      <td>163</td>\n",
              "      <td>2</td>\n",
              "      <td>10.0</td>\n",
              "      <td>3.0</td>\n",
              "      <td>0.5</td>\n",
              "      <td>0.00</td>\n",
              "      <td>0.0</td>\n",
              "      <td>0.3</td>\n",
              "      <td>13.80</td>\n",
              "      <td>2.5</td>\n",
              "      <td>12.0</td>\n",
              "      <td>0.833333</td>\n",
              "      <td>5.882353</td>\n",
              "    </tr>\n",
              "    <tr>\n",
              "      <th>7</th>\n",
              "      <td>1</td>\n",
              "      <td>2019-12-01 00:29:35</td>\n",
              "      <td>2019-12-01 00:32:29</td>\n",
              "      <td>0.0</td>\n",
              "      <td>0.5</td>\n",
              "      <td>1</td>\n",
              "      <td>N</td>\n",
              "      <td>79</td>\n",
              "      <td>224</td>\n",
              "      <td>1</td>\n",
              "      <td>4.0</td>\n",
              "      <td>3.0</td>\n",
              "      <td>0.5</td>\n",
              "      <td>1.55</td>\n",
              "      <td>0.0</td>\n",
              "      <td>0.3</td>\n",
              "      <td>9.35</td>\n",
              "      <td>2.5</td>\n",
              "      <td>2.0</td>\n",
              "      <td>2.000000</td>\n",
              "      <td>8.000000</td>\n",
              "    </tr>\n",
              "  </tbody>\n",
              "</table>\n",
              "</div>"
            ],
            "text/plain": [
              "   VendorID tpep_pickup_datetime  ... price_per_minute  price_per_mile\n",
              "0         1  2019-12-01 00:26:58  ...         1.035714        3.452381\n",
              "4         1  2019-12-01 00:05:27  ...         0.818182        5.625000\n",
              "5         1  2019-12-01 00:58:51  ...         0.722222        6.500000\n",
              "6         1  2019-12-01 00:14:19  ...         0.833333        5.882353\n",
              "7         1  2019-12-01 00:29:35  ...         2.000000        8.000000\n",
              "\n",
              "[5 rows x 21 columns]"
            ]
          },
          "metadata": {
            "tags": []
          },
          "execution_count": 34
        }
      ]
    },
    {
      "cell_type": "markdown",
      "metadata": {
        "id": "hYcdulwZgyha"
      },
      "source": [
        "Опишем стандартный тариф медианными значениями:"
      ]
    },
    {
      "cell_type": "code",
      "metadata": {
        "colab": {
          "base_uri": "https://localhost:8080/"
        },
        "id": "--UNu58bi2gi",
        "outputId": "ac5a956a-2031-4620-f596-d36ed2f91bc4"
      },
      "source": [
        "print('Цена такси за минуту %.2f$' % df_clear['price_per_minute'].median(),\n",
        "      '\\nЦена такси за милю %.2f$' % df_clear['price_per_mile'].median())"
      ],
      "execution_count": null,
      "outputs": [
        {
          "output_type": "stream",
          "text": [
            "Цена такси за минуту 0.94$ \n",
            "Цена такси за милю 5.56$\n"
          ],
          "name": "stdout"
        }
      ]
    },
    {
      "cell_type": "markdown",
      "metadata": {
        "id": "w_1dAdbVPCm8"
      },
      "source": [
        "Посмотрим распределение цен в зависимости от времени суток:"
      ]
    },
    {
      "cell_type": "code",
      "metadata": {
        "colab": {
          "base_uri": "https://localhost:8080/",
          "height": 514
        },
        "id": "6u4ITv8nX66b",
        "outputId": "0c0ed799-deb8-4ca8-f544-9aba5386fb8b"
      },
      "source": [
        "fig, ax = plt.subplots(figsize=(8,8))\n",
        "sns.lineplot(data=df_clear.groupby(df_clear['tpep_pickup_datetime'].dt.hour).agg({'price_per_mile' : 'median'}).reset_index(),\n",
        "             x=\"tpep_pickup_datetime\", y='price_per_mile')\n",
        "sns.lineplot(data=df_clear.groupby(df_clear['tpep_pickup_datetime'].dt.hour).agg({'price_per_minute' : 'median'}).reset_index(),\n",
        "             x=\"tpep_pickup_datetime\", y='price_per_minute')\n",
        "sns.lineplot(data=df_clear.groupby(df_clear['tpep_pickup_datetime'].dt.hour).agg({'total_amount' : 'median'}).reset_index(),\n",
        "             x=\"tpep_pickup_datetime\", y='total_amount')\n",
        "\n",
        "plt.legend(['price per mile', 'price per minute', 'total amount'], loc='upper left')\n",
        "plt.title('Price from pickup time')\n",
        "plt.xticks(df_clear['tpep_pickup_datetime'].dt.hour.unique())\n",
        "plt.grid()\n",
        "#plt.xticks(standart_rate[\"tpep_pickup_datetime\"], rotation=90)\n",
        "plt.show()"
      ],
      "execution_count": null,
      "outputs": [
        {
          "output_type": "display_data",
          "data": {
            "image/png": "[encoded data removed]",
            "text/plain": [
              "<Figure size 576x576 with 1 Axes>"
            ]
          },
          "metadata": {
            "tags": [],
            "needs_background": "light"
          }
        }
      ]
    },
    {
      "cell_type": "markdown",
      "metadata": {
        "id": "SXm_jb_LP-ko"
      },
      "source": [
        "Распределение цен в зависимости от количества пассажиров:"
      ]
    },
    {
      "cell_type": "code",
      "metadata": {
        "colab": {
          "base_uri": "https://localhost:8080/",
          "height": 497
        },
        "id": "CIN_ovCY5MGt",
        "outputId": "7beeb1f0-4392-43fc-8904-f0a21fef0e60"
      },
      "source": [
        "fig, ax = plt.subplots(figsize=(8,8))\n",
        "sns.lineplot(data=df_clear.groupby(df_clear['passenger_count']).agg({'price_per_mile' : 'median'}).reset_index(),\n",
        "             x=\"passenger_count\", y='price_per_mile')\n",
        "sns.lineplot(data=df_clear.groupby(df_clear['passenger_count']).agg({'price_per_minute' : 'median'}).reset_index(),\n",
        "             x=\"passenger_count\", y='price_per_minute')\n",
        "sns.lineplot(data=df_clear.groupby(df_clear['passenger_count']).agg({'total_amount' : 'median'}).reset_index(),\n",
        "             x=\"passenger_count\", y='total_amount')\n",
        "plt.legend(['price_per_mile', 'price_per_minute', 'total amount'], loc='center left')\n",
        "plt.grid()\n",
        "plt.yticks(np.arange(0, 16, 1))\n",
        "#plt.xticks(standart_rate[\"tpep_pickup_datetime\"], rotation=90)\n",
        "plt.show()"
      ],
      "execution_count": null,
      "outputs": [
        {
          "output_type": "display_data",
          "data": {
            "image/png": "[encoded data removed]",
            "text/plain": [
              "<Figure size 576x576 with 1 Axes>"
            ]
          },
          "metadata": {
            "tags": [],
            "needs_background": "light"
          }
        }
      ]
    },
    {
      "cell_type": "markdown",
      "metadata": {
        "id": "7uran3KoQMgH"
      },
      "source": [
        "Посмотрим распределение цен в зависимости от тарифа:"
      ]
    },
    {
      "cell_type": "code",
      "metadata": {
        "colab": {
          "base_uri": "https://localhost:8080/",
          "height": 497
        },
        "id": "baCdmw3a6Py4",
        "outputId": "cec10ba4-4426-4d3b-edb0-9c1fba2035ad"
      },
      "source": [
        "fig, ax = plt.subplots(figsize=(8,8))\n",
        "sns.lineplot(data=df_clear.groupby(df_clear['RatecodeID']).agg({'price_per_mile' : 'median'}).reset_index(),\n",
        "             x=\"RatecodeID\", y='price_per_mile')\n",
        "sns.lineplot(data=df_clear.groupby(df_clear['RatecodeID']).agg({'price_per_minute' : 'median'}).reset_index(),\n",
        "             x=\"RatecodeID\", y='price_per_minute')\n",
        "sns.lineplot(data=df_clear.groupby(df_clear['RatecodeID']).agg({'total_amount' : 'median'}).reset_index(),\n",
        "             x=\"RatecodeID\", y='total_amount')\n",
        "plt.grid()\n",
        "plt.legend(['price_per_mile', 'price_per_minute', 'total amount'], loc='upper left')\n",
        "plt.xticks(df_clear['RatecodeID'].unique())\n",
        "plt.yticks(np.arange(0, 70, 5))\n",
        "plt.show()"
      ],
      "execution_count": null,
      "outputs": [
        {
          "output_type": "display_data",
          "data": {
            "image/png": "[encoded data removed]",
            "text/plain": [
              "<Figure size 576x576 with 1 Axes>"
            ]
          },
          "metadata": {
            "tags": [],
            "needs_background": "light"
          }
        }
      ]
    },
    {
      "cell_type": "markdown",
      "metadata": {
        "id": "cgf2PHqpSGy1"
      },
      "source": [
        "Стоимость поездки явно зависит от времени суток, начиная повышаться с 6 утра и до 23 с пиком в промежутке с 16 до 19 (в момент когда большинство людей возвращаются с работы).\n",
        "Также на стоимость поездки влияет количество пассажиров - одному пассажиру ехать дешевле, чем с попутчиками. Но при этом цена не изменяется при количестве пассажиров >= 2.\n",
        "Сильное влияние на стоимость поездки оказывает тариф. "
      ]
    },
    {
      "cell_type": "markdown",
      "metadata": {
        "id": "nDhHd5AJBskN"
      },
      "source": [
        "#***5. Определение дней, в которых проводились скидки или акции.***#"
      ]
    },
    {
      "cell_type": "code",
      "metadata": {
        "colab": {
          "base_uri": "https://localhost:8080/",
          "height": 779
        },
        "id": "tBlwlnwLB2sx",
        "outputId": "2f741769-ae3e-4aa7-da41-c379ee462aec"
      },
      "source": [
        "fig, ax = plt.subplots(figsize=(12,12))\n",
        "sns.lineplot(data=df_clear.groupby(df_clear['tpep_pickup_datetime'].dt.date).agg({'price_per_mile' : 'median'}).reset_index(),\n",
        "             x=\"tpep_pickup_datetime\", y='price_per_mile')\n",
        "sns.lineplot(data=df_clear.groupby(df_clear['tpep_pickup_datetime'].dt.date).agg({'price_per_minute' : 'median'}).reset_index(),\n",
        "             x=\"tpep_pickup_datetime\", y='price_per_minute')\n",
        "sns.lineplot(data=df_clear.groupby(df_clear['tpep_pickup_datetime'].dt.date).agg({'total_amount' : 'median'}).reset_index(),\n",
        "             x=\"tpep_pickup_datetime\", y='total_amount')\n",
        "\n",
        "plt.legend(['price_per_mile', 'price_per_minute', 'total amount'], loc='upper right')\n",
        "plt.title('Price from pickup time')\n",
        "plt.xticks(df_clear['tpep_pickup_datetime'].dt.date.unique(), rotation=90)\n",
        "plt.yticks(np.arange(0, 18, 1))\n",
        "plt.grid()\n",
        "#plt.xticks(standart_rate[\"tpep_pickup_datetime\"], rotation=90)\n",
        "plt.show()"
      ],
      "execution_count": null,
      "outputs": [
        {
          "output_type": "display_data",
          "data": {
            "image/png": "[encoded data removed]",
            "text/plain": [
              "<Figure size 864x864 with 1 Axes>"
            ]
          },
          "metadata": {
            "tags": [],
            "needs_background": "light"
          }
        }
      ]
    },
    {
      "cell_type": "markdown",
      "metadata": {
        "id": "YNvUr7YkQmRG"
      },
      "source": [
        "Если судить по распределению медианных цен за весь период, то можно заметить паднение в периоды с 24 по 25 декабря, 31 декабря, c 19 на 20 января. Объяснить это можно появлением скидок и акций в период празднований Рождества, Нового года и Дня Мартина Лютера Кинга."
      ]
    }
  ]
}
